{
  "nbformat": 4,
  "nbformat_minor": 0,
  "metadata": {
    "colab": {
      "name": "BostonHousing-NN.ipynb",
      "provenance": []
    },
    "kernelspec": {
      "name": "python3",
      "display_name": "Python 3"
    }
  },
  "cells": [
    {
      "cell_type": "code",
      "metadata": {
        "id": "CcHVypk7E1cp"
      },
      "source": [
        "# Load libraries\r\n",
        "\r\n",
        "# numpy\r\n",
        "import numpy as np\r\n",
        "\r\n",
        "# pandas\r\n",
        "import pandas as pd\r\n",
        "\r\n",
        "# keras library\r\n",
        "from keras.models import Sequential\r\n",
        "from keras.layers import Dense\r\n",
        "from keras.wrappers.scikit_learn import KerasRegressor\r\n",
        "\r\n",
        "# scikit functions\r\n",
        "from sklearn.model_selection import cross_val_score\r\n",
        "from sklearn.preprocessing import LabelEncoder\r\n",
        "from sklearn.model_selection import KFold\r\n",
        "from sklearn.preprocessing import StandardScaler\r\n",
        "from sklearn.pipeline import Pipeline"
      ],
      "execution_count": 1,
      "outputs": []
    },
    {
      "cell_type": "code",
      "metadata": {
        "id": "CSjKNy12E53S"
      },
      "source": [
        "# load dataset\r\n",
        "dataframe = pd.read_csv(\"boston-house.csv\", delim_whitespace=True, header=None)\r\n",
        "dataset = dataframe.values\r\n",
        "# split into input (X) and output (Y) variables\r\n",
        "X = dataset[:,0:13]\r\n",
        "Y = dataset[:,13]"
      ],
      "execution_count": 2,
      "outputs": []
    },
    {
      "cell_type": "code",
      "metadata": {
        "id": "F_FY9KcdFF92"
      },
      "source": [
        "# define base mode\r\n",
        "def baseline_model():\r\n",
        "    # create model\r\n",
        "    model = Sequential()\r\n",
        "    model.add(Dense(13, input_dim=13, activation='relu', kernel_initializer='normal'))\r\n",
        "    model.add(Dense(1, kernel_initializer='normal'))\r\n",
        "    # Compile model\r\n",
        "    model.compile(loss='mean_squared_error', optimizer='adam')\r\n",
        "    return model"
      ],
      "execution_count": 3,
      "outputs": []
    },
    {
      "cell_type": "code",
      "metadata": {
        "id": "VFj3dlAJFNDw"
      },
      "source": [
        "# fix random seed for reproducibility\r\n",
        "seed = 7\r\n",
        "np.random.seed(seed)\r\n",
        "\r\n",
        "# evaluate model with standardized dataset\r\n",
        "estimator = KerasRegressor(build_fn=baseline_model, epochs=50, batch_size=5, verbose=0)"
      ],
      "execution_count": 4,
      "outputs": []
    },
    {
      "cell_type": "code",
      "metadata": {
        "colab": {
          "base_uri": "https://localhost:8080/"
        },
        "id": "jo26hwQiFP0A",
        "outputId": "9ad24f7b-22be-4b4d-a5ae-6dfbf35e35c3"
      },
      "source": [
        "kfold = KFold(n_splits=10, random_state=seed)\r\n",
        "results = cross_val_score(estimator, X, Y, cv=kfold)\r\n",
        "print(\"Baseline: %.2f (%.2f) MSE\" % (results.mean(), results.std()))"
      ],
      "execution_count": 5,
      "outputs": [
        {
          "output_type": "stream",
          "text": [
            "/usr/local/lib/python3.6/dist-packages/sklearn/model_selection/_split.py:296: FutureWarning: Setting a random_state has no effect since shuffle is False. This will raise an error in 0.24. You should leave random_state to its default (None), or set shuffle=True.\n",
            "  FutureWarning\n"
          ],
          "name": "stderr"
        },
        {
          "output_type": "stream",
          "text": [
            "Baseline: -40.59 (23.30) MSE\n"
          ],
          "name": "stdout"
        }
      ]
    },
    {
      "cell_type": "code",
      "metadata": {
        "colab": {
          "base_uri": "https://localhost:8080/"
        },
        "id": "WwV4qwXNFSQd",
        "outputId": "c8913863-5522-4bea-b325-e486360034b2"
      },
      "source": [
        "#evaluate baseline model with standardized dataset\r\n",
        "np.random.seed(seed)\r\n",
        "estimators = []\r\n",
        "estimators.append(('standardize', StandardScaler()))\r\n",
        "estimators.append(('mlp', KerasRegressor(build_fn=baseline_model, epochs=50, batch_size=5, verbose=0)))\r\n",
        "pipeline = Pipeline(estimators)\r\n",
        "kfold = KFold(n_splits=10, random_state=seed)\r\n",
        "results = cross_val_score(pipeline, X, Y, cv=kfold)\r\n",
        "print(\"Standardized: %.2f (%.2f) MSE\" % (results.mean(), results.std()))"
      ],
      "execution_count": 6,
      "outputs": [
        {
          "output_type": "stream",
          "text": [
            "/usr/local/lib/python3.6/dist-packages/sklearn/model_selection/_split.py:296: FutureWarning: Setting a random_state has no effect since shuffle is False. This will raise an error in 0.24. You should leave random_state to its default (None), or set shuffle=True.\n",
            "  FutureWarning\n"
          ],
          "name": "stderr"
        },
        {
          "output_type": "stream",
          "text": [
            "Standardized: -30.28 (29.56) MSE\n"
          ],
          "name": "stdout"
        }
      ]
    },
    {
      "cell_type": "code",
      "metadata": {
        "colab": {
          "base_uri": "https://localhost:8080/"
        },
        "id": "3ylAbw1gFVwA",
        "outputId": "8d26f951-6da9-4469-9f3d-c29fc3599123"
      },
      "source": [
        "# define the model\r\n",
        "def larger_model():\r\n",
        "    # create model\r\n",
        "    model = Sequential()\r\n",
        "    model.add(Dense(13, input_dim=13, activation='relu', kernel_initializer='normal'))\r\n",
        "    model.add(Dense(6, activation='relu', kernel_initializer='normal'))\r\n",
        "    model.add(Dense(1, kernel_initializer='normal'))\r\n",
        "    # Compile model\r\n",
        "    model.compile(loss='mean_squared_error', optimizer='adam')\r\n",
        "    return model\r\n",
        "\r\n",
        "# fix random seed for reproducibility\r\n",
        "seed = 7\r\n",
        "np.random.seed(seed)\r\n",
        "\r\n",
        "# evaluate model with standardized dataset\r\n",
        "estimators = []\r\n",
        "estimators.append(('standardize', StandardScaler()))\r\n",
        "estimators.append(('mlp', KerasRegressor(build_fn=larger_model, epochs=50, batch_size=5, verbose=0)))\r\n",
        "pipeline = Pipeline(estimators)\r\n",
        "kfold = KFold(n_splits=10, random_state=seed)\r\n",
        "results = cross_val_score(pipeline, X, Y, cv=kfold)\r\n",
        "print(\"Larger: %.2f (%.2f) MSE\" % (results.mean(), results.std()))"
      ],
      "execution_count": 7,
      "outputs": [
        {
          "output_type": "stream",
          "text": [
            "/usr/local/lib/python3.6/dist-packages/sklearn/model_selection/_split.py:296: FutureWarning: Setting a random_state has no effect since shuffle is False. This will raise an error in 0.24. You should leave random_state to its default (None), or set shuffle=True.\n",
            "  FutureWarning\n"
          ],
          "name": "stderr"
        },
        {
          "output_type": "stream",
          "text": [
            "Larger: -22.58 (26.09) MSE\n"
          ],
          "name": "stdout"
        }
      ]
    },
    {
      "cell_type": "markdown",
      "metadata": {
        "id": "_aar3RmAFm4i"
      },
      "source": [
        "## Tuning network topology with wider one"
      ]
    },
    {
      "cell_type": "code",
      "metadata": {
        "id": "Rm2dFDXBFZnH"
      },
      "source": [
        "# define wider model\r\n",
        "def wider_model():\r\n",
        "    # create model\r\n",
        "    model = Sequential()\r\n",
        "    model.add(Dense(20, input_dim=13, activation='relu', kernel_initializer='normal'))\r\n",
        "    model.add(Dense(1, kernel_initializer='normal'))\r\n",
        "    # Compile model\r\n",
        "    model.compile(loss='mean_squared_error', optimizer='adam')\r\n",
        "    return model\r\n",
        "\r\n",
        "# fix random seed for reproducibility\r\n",
        "seed = 7\r\n",
        "np.random.seed(seed)\r\n",
        "\r\n",
        "# evaluate model with standardized dataset\r\n",
        "estimators = []\r\n",
        "estimators.append(('standardize', StandardScaler()))\r\n",
        "estimators.append(('mlp', KerasRegressor(build_fn=wider_model, epochs=50, batch_size=5, verbose=0)))\r\n",
        "pipeline = Pipeline(estimators)\r\n",
        "kfold = KFold(n_splits=10, random_state=seed)\r\n",
        "results = cross_val_score(pipeline, X, Y, cv=kfold)\r\n",
        "print(\"Wider: %.2f (%.2f) MSE\" % (results.mean(), results.std()))"
      ],
      "execution_count": null,
      "outputs": []
    }
  ]
}